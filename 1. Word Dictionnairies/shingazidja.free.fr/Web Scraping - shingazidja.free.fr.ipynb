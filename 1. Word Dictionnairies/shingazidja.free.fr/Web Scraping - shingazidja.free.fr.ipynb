{
  "cells":[
    {
      "cell_type":"code",
      "source":[
        "import pandas as pd\n",
        "import numpy as np\n",
        "import requests\n",
        "import json\n",
        "from bs4 import BeautifulSoup"
      ],
      "execution_count":112,
      "outputs":[
        
      ],
      "metadata":{
        
      }
    },
    {
      "cell_type":"markdown",
      "source":[
        "## API PIXABAY"
      ],
      "attachments":{
        
      },
      "metadata":{
        
      }
    },
    {
      "cell_type":"code",
      "source":[
        "def get_image_from_pixabay_api(q,lang = 'fr',printeuh = False):\n",
        "    API_KEY = \"23672740-cba60779b77fa0ce01dc1adc5\"\n",
        "    API_KEY = '14972248-16dc6a93fb1171c338a02329c'\n",
        "    url = \"https:\/\/pixabay.com\/api\/?key={}&q={}&lang={}\"\n",
        "\n",
        "    response = requests.get(url.format(API_KEY,q,lang))\n",
        "    if q:\n",
        "        if response.ok:\n",
        "\n",
        "            hits = response.json()['hits']\n",
        "            if printeuh:\n",
        "                print(\"*\",q)\n",
        "            if len(hits) > 0:\n",
        "                return hits[0]\n",
        "        return None\n",
        "    return None\n",
        "\n",
        "img = get_image_from_pixabay_api(\"Rapide\")\n",
        "img"
      ],
      "execution_count":113,
      "outputs":[
        {
          "data":{
            "text\/plain":[
              "{'id': 49278,\n",
              " 'pageURL': 'https:\/\/pixabay.com\/fr\/illustrations\/auto-v%c3%a9hicule-voiture-de-sport-49278\/',\n",
              " 'type': 'illustration',\n",
              " 'tags': 'auto, véhicule, voiture de sport',\n",
              " 'previewURL': 'https:\/\/cdn.pixabay.com\/photo\/2012\/05\/29\/00\/43\/car-49278_150.jpg',\n",
              " 'previewWidth': 150,\n",
              " 'previewHeight': 84,\n",
              " 'webformatURL': 'https:\/\/pixabay.com\/get\/g836f7fb21edff9ccd3214967bc38fe4c44dfaa88ccfd53ae4b407942d2d3b52185232775b33f0e2f1717940151ffe340_640.jpg',\n",
              " 'webformatWidth': 640,\n",
              " 'webformatHeight': 360,\n",
              " 'largeImageURL': 'https:\/\/pixabay.com\/get\/g1115f0196baabae9bef4789db66319a1a2c81fdbecc8d8fb1ab83db42b00b0a9eec566c34399d921bddc7d20416d5ce6_1280.jpg',\n",
              " 'imageWidth': 4000,\n",
              " 'imageHeight': 2250,\n",
              " 'imageSize': 449371,\n",
              " 'views': 546996,\n",
              " 'downloads': 115959,\n",
              " 'collections': 2092,\n",
              " 'likes': 701,\n",
              " 'comments': 192,\n",
              " 'user_id': 4592,\n",
              " 'user': 'lipetkd',\n",
              " 'userImageURL': 'https:\/\/cdn.pixabay.com\/user\/2012\/05\/29\/00-42-25-95_250x250.png'}"
            ]
          },
          "metadata":{
            
          },
          "output_type":"display_data"
        }
      ],
      "metadata":{
        
      }
    },
    {
      "cell_type":"code",
      "source":[
        "img[\"pageURL\"]"
      ],
      "execution_count":114,
      "outputs":[
        {
          "data":{
            "text\/plain":[
              "'https:\/\/pixabay.com\/fr\/illustrations\/auto-v%c3%a9hicule-voiture-de-sport-49278\/'"
            ]
          },
          "metadata":{
            
          },
          "output_type":"display_data"
        }
      ],
      "metadata":{
        
      }
    },
    {
      "cell_type":"markdown",
      "source":[
        "## GET DATA"
      ],
      "attachments":{
        
      },
      "metadata":{
        
      }
    },
    {
      "cell_type":"code",
      "source":[
        "url = \"http:\/\/shingazidja.free.fr\/_vocabulaire\/vocabulaire.php5?mode=lecture&fichier=vocabulaire.xml&feuille=Temps%20qui%20passe\"\n",
        "def get_df_from(title_h1,url):\n",
        "    response = requests.get(url, headers={\"User-Agent\": \"XY\"})\n",
        "    result = []\n",
        "    if response.ok:\n",
        "\n",
        "        soup = BeautifulSoup(response.text,'lxml')\n",
        "        content = soup.find(\"td\", {\"id\": \"content\"})\n",
        "        title_h2 =  content.find(\"p\", {\"id\": \"titre\"})\n",
        "\n",
        "        trs_1 = content.find_all(\"tr\", {\"id\": \"trVocab\"})\n",
        "        trs_2 = content.find_all(\"tr\", {\"id\": \"trVocab2\"})\n",
        "\n",
        "        for trs in [trs_1,trs_2]:\n",
        "            for tr in trs:\n",
        "                \n",
        "                tds = tr.find_all(\"td\", recursive=False)\n",
        "                \n",
        "                dict_row= {}\n",
        "                for i,td in enumerate(tds):\n",
        "                    word = td.text.strip()\n",
        "\n",
        "                    if len(word) > 0:\n",
        "                        if i == 0:\n",
        "                            dict_row[\"key_km\"] = word\n",
        "                        elif i == 1:\n",
        "                            dict_row[\"key_fr\"] = word\n",
        "\n",
        "                if len(dict_row.keys()) > 0:\n",
        "                    dict_row[\"tags\"] = title_h1 + \", \" + title_h2.text \n",
        "\n",
        "                    \n",
        "                    if \"key_fr\" in dict_row.keys():\n",
        "                        #print(dict_row[\"key_fr\"])\n",
        "                        q_key_fr = dict_row[\"key_fr\"].split(\"(\")[0].split(\"\/\")[0]\n",
        "                        img_dict = get_image_from_pixabay_api(q_key_fr)\n",
        "                        if img_dict:\n",
        "                            dict_row[\"img_link_webformatURL\"] = img_dict[\"webformatURL\"]\n",
        "                            dict_row[\"img_link_previewURL\"] = img_dict[\"previewURL\"]\n",
        "\n",
        "                    result.append(dict_row)\n",
        "\n",
        "\n",
        "    print(\"#\",title_h2.text,len(result))\n",
        "    result_df = pd.DataFrame(result)\n",
        "    return result_df\n",
        "\n",
        "    \n",
        "get_df_from(\"Quotidien\",url)"
      ],
      "execution_count":116,
      "outputs":[
        {
          "name":"stdout",
          "text":[
            "# Temps qui passe 101\n"
          ],
          "output_type":"stream"
        },
        {
          "data":{
            "text\/html":[
              "<div>\n",
              "<style scoped>\n",
              "    .dataframe tbody tr th:only-of-type {\n",
              "        vertical-align: middle;\n",
              "    }\n",
              "\n",
              "    .dataframe tbody tr th {\n",
              "        vertical-align: top;\n",
              "    }\n",
              "\n",
              "    .dataframe thead th {\n",
              "        text-align: right;\n",
              "    }\n",
              "<\/style>\n",
              "<table border=\"1\" class=\"dataframe\">\n",
              "  <thead>\n",
              "    <tr style=\"text-align: right;\">\n",
              "      <th><\/th>\n",
              "      <th>key_km<\/th>\n",
              "      <th>key_fr<\/th>\n",
              "      <th>tags<\/th>\n",
              "      <th>img_link_webformatURL<\/th>\n",
              "      <th>img_link_previewURL<\/th>\n",
              "    <\/tr>\n",
              "  <\/thead>\n",
              "  <tbody>\n",
              "    <tr>\n",
              "      <th>0<\/th>\n",
              "      <td>Wusiku (nyi-) \/ Ntsihu (-)<\/td>\n",
              "      <td>Jour \/ Journée<\/td>\n",
              "      <td>Quotidien, Temps qui passe<\/td>\n",
              "      <td>https:\/\/pixabay.com\/get\/gcfe454713af47b2bc2625...<\/td>\n",
              "      <td>https:\/\/cdn.pixabay.com\/photo\/2017\/01\/31\/23\/48...<\/td>\n",
              "    <\/tr>\n",
              "    <tr>\n",
              "      <th>1<\/th>\n",
              "      <td>Asubuhi \/ Alfadjiri (-)<\/td>\n",
              "      <td>Aube<\/td>\n",
              "      <td>Quotidien, Temps qui passe<\/td>\n",
              "      <td>https:\/\/pixabay.com\/get\/g76e1034113fa46b769d43...<\/td>\n",
              "      <td>https:\/\/cdn.pixabay.com\/photo\/2018\/01\/24\/18\/05...<\/td>\n",
              "    <\/tr>\n",
              "    <tr>\n",
              "      <th>2<\/th>\n",
              "      <td>Trasi<\/td>\n",
              "      <td>Matinée<\/td>\n",
              "      <td>Quotidien, Temps qui passe<\/td>\n",
              "      <td>https:\/\/pixabay.com\/get\/ge1bfc8771a23df134c1a9...<\/td>\n",
              "      <td>https:\/\/cdn.pixabay.com\/photo\/2019\/08\/11\/05\/12...<\/td>\n",
              "    <\/tr>\n",
              "    <tr>\n",
              "      <th>3<\/th>\n",
              "      <td>Mtsana (mi-)<\/td>\n",
              "      <td>Journée (10h - 14h)<\/td>\n",
              "      <td>Quotidien, Temps qui passe<\/td>\n",
              "      <td>https:\/\/pixabay.com\/get\/g777f0411cd6916838688c...<\/td>\n",
              "      <td>https:\/\/cdn.pixabay.com\/photo\/2016\/03\/27\/07\/32...<\/td>\n",
              "    <\/tr>\n",
              "    <tr>\n",
              "      <th>4<\/th>\n",
              "      <td>Midi (milieu de journée)<\/td>\n",
              "      <td>Saa sita \/ Ivuli-mdruni (cl.7)<\/td>\n",
              "      <td>Quotidien, Temps qui passe<\/td>\n",
              "      <td>NaN<\/td>\n",
              "      <td>NaN<\/td>\n",
              "    <\/tr>\n",
              "    <tr>\n",
              "      <th>...<\/th>\n",
              "      <td>...<\/td>\n",
              "      <td>...<\/td>\n",
              "      <td>...<\/td>\n",
              "      <td>...<\/td>\n",
              "      <td>...<\/td>\n",
              "    <\/tr>\n",
              "    <tr>\n",
              "      <th>96<\/th>\n",
              "      <td>Ha dharba \/ Ha ghafla<\/td>\n",
              "      <td>Brusquement \/ Soudain \/ Soudainement<\/td>\n",
              "      <td>Quotidien, Temps qui passe<\/td>\n",
              "      <td>https:\/\/pixabay.com\/get\/gcc993c9c44087ab111092...<\/td>\n",
              "      <td>https:\/\/cdn.pixabay.com\/photo\/2017\/04\/22\/04\/53...<\/td>\n",
              "    <\/tr>\n",
              "    <tr>\n",
              "      <th>97<\/th>\n",
              "      <td>Hima randzi<\/td>\n",
              "      <td>Attends d'abord<\/td>\n",
              "      <td>Quotidien, Temps qui passe<\/td>\n",
              "      <td>NaN<\/td>\n",
              "      <td>NaN<\/td>\n",
              "    <\/tr>\n",
              "    <tr>\n",
              "      <th>98<\/th>\n",
              "      <td>Rangu \/ Randzi<\/td>\n",
              "      <td>Depuis que<\/td>\n",
              "      <td>Quotidien, Temps qui passe<\/td>\n",
              "      <td>NaN<\/td>\n",
              "      <td>NaN<\/td>\n",
              "    <\/tr>\n",
              "    <tr>\n",
              "      <th>99<\/th>\n",
              "      <td>Raili<\/td>\n",
              "      <td>Depuis que \/ Tant que<\/td>\n",
              "      <td>Quotidien, Temps qui passe<\/td>\n",
              "      <td>NaN<\/td>\n",
              "      <td>NaN<\/td>\n",
              "    <\/tr>\n",
              "    <tr>\n",
              "      <th>100<\/th>\n",
              "      <td>Randzi lewo<\/td>\n",
              "      <td>Désormais (\"depuis aujourd'hui\")<\/td>\n",
              "      <td>Quotidien, Temps qui passe<\/td>\n",
              "      <td>NaN<\/td>\n",
              "      <td>NaN<\/td>\n",
              "    <\/tr>\n",
              "  <\/tbody>\n",
              "<\/table>\n",
              "<p>101 rows × 5 columns<\/p>\n",
              "<\/div>"
            ]
          },
          "metadata":{
            
          },
          "output_type":"display_data"
        }
      ],
      "metadata":{
        
      }
    },
    {
      "cell_type":"code",
      "source":[
        "def get_all_data_from_menu():\n",
        "    menu_dict = {\n",
        "    \"Quotidien\" : [\"Maison\",\"Alimentation-Boisson\",\"Travail-Repos\", \"Argent-Consommation\", \"Temps qui passe\"],\n",
        "    \"Humain\" : [\"Corps Humain\", \"5 sens\",\"Habits-Paraitre\" ,\"Santé-Hygiene\"],\n",
        "        \"Mouvements\" : [\"Déplacement\", \"Sport\", \"Actions\", \"Transport-Communication\" ,\"Localisation\"],\n",
        "        \"Nation et Devoir\" : [\"Bien-Mal\",\"Vouloir-Pouvoir-Devoir\",\"Pays-Loi\"],\n",
        "        \"Relations Humaines\" : [\"Relations Humaines\",\"Emotions\",\"Mariage-Sexualité\",\"Générations\"],\n",
        "        \"Savoir et Croyances\": [\"Ecole-Connaissance\", \"Religion-Vie-Mort\"],\n",
        "        \"Nature\" : [\"Animaux\", \"Nature-Temps\"],\n",
        "        \"Grammaire\" : [\"MotsDeLiaisons\", \"Pronoms...\", \"Mesure\"]\n",
        "    }\n",
        "    dfs = []\n",
        "    for h1,list_h2 in menu_dict.items():\n",
        "        for h2 in list_h2:\n",
        "            url = \"http:\/\/shingazidja.free.fr\/_vocabulaire\/vocabulaire.php5?mode=lecture&fichier=vocabulaire.xml&feuille={}\"\n",
        "\n",
        "            df = get_df_from(h1,url.format(h2))\n",
        "            dfs.append(df)\n",
        "    df_result = pd.concat(dfs,ignore_index=True).dropna()\n",
        "\n",
        "\n",
        "    return df_result.sort_values(by=[\"tags\",'key_fr'],ignore_index=True)\n",
        "\n",
        "df_all_shingazidja_words = get_all_data_from_menu()\n",
        "df_all_shingazidja_words"
      ],
      "execution_count":117,
      "outputs":[
        {
          "name":"stdout",
          "text":[
            "# Maison 103\n",
            "# Alimentation-Boisson 116\n",
            "# Travail-Repos 57\n",
            "# Argent-Consommation 54\n",
            "# Temps qui passe 101\n",
            "# Corps Humain 66\n",
            "# 5 sens 45\n",
            "# Habits-Paraitre 61\n",
            "# Santé-Hygiene 0\n",
            "# Déplacement 43\n",
            "# Sport 54\n",
            "# Actions 51\n",
            "# Transport-Communication 49\n",
            "# Localisation 31\n",
            "# Bien-Mal 37\n",
            "# Vouloir-Pouvoir-Devoir 15\n",
            "# Pays-Loi 72\n",
            "# Relations Humaines 125\n",
            "# Emotions 43\n",
            "# Mariage-Sexualité 28\n",
            "# Générations 32\n",
            "# Ecole-Connaissance 101\n",
            "# Religion-Vie-Mort 76\n",
            "# Animaux 37\n",
            "# Nature-Temps 42\n",
            "# MotsDeLiaisons 79\n",
            "# Pronoms... 0\n",
            "# Mesure 29\n"
          ],
          "output_type":"stream"
        },
        {
          "data":{
            "text\/html":[
              "<div>\n",
              "<style scoped>\n",
              "    .dataframe tbody tr th:only-of-type {\n",
              "        vertical-align: middle;\n",
              "    }\n",
              "\n",
              "    .dataframe tbody tr th {\n",
              "        vertical-align: top;\n",
              "    }\n",
              "\n",
              "    .dataframe thead th {\n",
              "        text-align: right;\n",
              "    }\n",
              "<\/style>\n",
              "<table border=\"1\" class=\"dataframe\">\n",
              "  <thead>\n",
              "    <tr style=\"text-align: right;\">\n",
              "      <th><\/th>\n",
              "      <th>key_km<\/th>\n",
              "      <th>key_fr<\/th>\n",
              "      <th>tags<\/th>\n",
              "      <th>img_link_webformatURL<\/th>\n",
              "      <th>img_link_previewURL<\/th>\n",
              "    <\/tr>\n",
              "  <\/thead>\n",
              "  <tbody>\n",
              "    <tr>\n",
              "      <th>0<\/th>\n",
              "      <td>Ko mndru<\/td>\n",
              "      <td>Aucun (\"il n'y a personne\")<\/td>\n",
              "      <td>Grammaire, Mesure<\/td>\n",
              "      <td>https:\/\/pixabay.com\/get\/g82be07f4821158f06b4ed...<\/td>\n",
              "      <td>https:\/\/cdn.pixabay.com\/photo\/2018\/05\/31\/15\/06...<\/td>\n",
              "    <\/tr>\n",
              "    <tr>\n",
              "      <th>1<\/th>\n",
              "      <td>-indji<\/td>\n",
              "      <td>Beaucoup (nombreux)<\/td>\n",
              "      <td>Grammaire, Mesure<\/td>\n",
              "      <td>https:\/\/pixabay.com\/get\/gb058516f7e6c4e5752a07...<\/td>\n",
              "      <td>https:\/\/cdn.pixabay.com\/photo\/2015\/11\/15\/21\/31...<\/td>\n",
              "    <\/tr>\n",
              "    <tr>\n",
              "      <th>2<\/th>\n",
              "      <td>Dja \/ Hama \/ Sawa na<\/td>\n",
              "      <td>Comme (comparaison)<\/td>\n",
              "      <td>Grammaire, Mesure<\/td>\n",
              "      <td>https:\/\/pixabay.com\/get\/g53ae4b956e25f4c04068c...<\/td>\n",
              "      <td>https:\/\/cdn.pixabay.com\/photo\/2020\/11\/14\/13\/29...<\/td>\n",
              "    <\/tr>\n",
              "    <tr>\n",
              "      <th>3<\/th>\n",
              "      <td>Ufanisa \/ Ulingana \/ Ulindzanisa<\/td>\n",
              "      <td>Comparer à<\/td>\n",
              "      <td>Grammaire, Mesure<\/td>\n",
              "      <td>https:\/\/pixabay.com\/get\/gd3ac9bef8d511262f7a3b...<\/td>\n",
              "      <td>https:\/\/cdn.pixabay.com\/photo\/2014\/03\/12\/01\/36...<\/td>\n",
              "    <\/tr>\n",
              "    <tr>\n",
              "      <th>4<\/th>\n",
              "      <td>Tafauti (-)<\/td>\n",
              "      <td>Différence<\/td>\n",
              "      <td>Grammaire, Mesure<\/td>\n",
              "      <td>https:\/\/pixabay.com\/get\/g0d55764de4348492c0b24...<\/td>\n",
              "      <td>https:\/\/cdn.pixabay.com\/photo\/2016\/01\/06\/21\/42...<\/td>\n",
              "    <\/tr>\n",
              "    <tr>\n",
              "      <th>...<\/th>\n",
              "      <td>...<\/td>\n",
              "      <td>...<\/td>\n",
              "      <td>...<\/td>\n",
              "      <td>...<\/td>\n",
              "      <td>...<\/td>\n",
              "    <\/tr>\n",
              "    <tr>\n",
              "      <th>342<\/th>\n",
              "      <td>Imani (cl.9)<\/td>\n",
              "      <td>Religion \/ Foi<\/td>\n",
              "      <td>Savoir et Croyances, Religion-Vie-Mort<\/td>\n",
              "      <td>https:\/\/pixabay.com\/get\/gedac634b887699d07c69b...<\/td>\n",
              "      <td>https:\/\/cdn.pixabay.com\/photo\/2017\/04\/08\/22\/26...<\/td>\n",
              "    <\/tr>\n",
              "    <tr>\n",
              "      <th>343<\/th>\n",
              "      <td>Sura (-)<\/td>\n",
              "      <td>Sourate<\/td>\n",
              "      <td>Savoir et Croyances, Religion-Vie-Mort<\/td>\n",
              "      <td>https:\/\/pixabay.com\/get\/gb5bdc70acde6be7b9936d...<\/td>\n",
              "      <td>https:\/\/cdn.pixabay.com\/photo\/2018\/09\/09\/06\/03...<\/td>\n",
              "    <\/tr>\n",
              "    <tr>\n",
              "      <th>344<\/th>\n",
              "      <td>Kaburi (mahaburi)<\/td>\n",
              "      <td>Tombe<\/td>\n",
              "      <td>Savoir et Croyances, Religion-Vie-Mort<\/td>\n",
              "      <td>https:\/\/pixabay.com\/get\/ga7f441f907a2e2ca96361...<\/td>\n",
              "      <td>https:\/\/cdn.pixabay.com\/photo\/2015\/09\/09\/16\/05...<\/td>\n",
              "    <\/tr>\n",
              "    <tr>\n",
              "      <th>345<\/th>\n",
              "      <td>Mfu (wa-)<\/td>\n",
              "      <td>Un mort<\/td>\n",
              "      <td>Savoir et Croyances, Religion-Vie-Mort<\/td>\n",
              "      <td>https:\/\/pixabay.com\/get\/g15cf5f2f40f2d571d1ed4...<\/td>\n",
              "      <td>https:\/\/cdn.pixabay.com\/photo\/2014\/07\/24\/21\/35...<\/td>\n",
              "    <\/tr>\n",
              "    <tr>\n",
              "      <th>346<\/th>\n",
              "      <td>Hueshi<\/td>\n",
              "      <td>Vivre<\/td>\n",
              "      <td>Savoir et Croyances, Religion-Vie-Mort<\/td>\n",
              "      <td>https:\/\/pixabay.com\/get\/gb582edc92548dbd5eb12c...<\/td>\n",
              "      <td>https:\/\/cdn.pixabay.com\/photo\/2017\/09\/05\/11\/37...<\/td>\n",
              "    <\/tr>\n",
              "  <\/tbody>\n",
              "<\/table>\n",
              "<p>347 rows × 5 columns<\/p>\n",
              "<\/div>"
            ]
          },
          "metadata":{
            
          },
          "output_type":"display_data"
        }
      ],
      "metadata":{
        
      }
    },
    {
      "cell_type":"code",
      "source":[
        "df_all_shingazidja_words.info()"
      ],
      "execution_count":118,
      "outputs":[
        {
          "name":"stdout",
          "text":[
            "<class 'pandas.core.frame.DataFrame'>\n",
            "RangeIndex: 347 entries, 0 to 346\n",
            "Data columns (total 5 columns):\n",
            " #   Column                 Non-Null Count  Dtype \n",
            "---  ------                 --------------  ----- \n",
            " 0   key_km                 347 non-null    object\n",
            " 1   key_fr                 347 non-null    object\n",
            " 2   tags                   347 non-null    object\n",
            " 3   img_link_webformatURL  347 non-null    object\n",
            " 4   img_link_previewURL    347 non-null    object\n",
            "dtypes: object(5)\n",
            "memory usage: 13.7+ KB\n"
          ],
          "output_type":"stream"
        }
      ],
      "metadata":{
        
      }
    },
    {
      "cell_type":"code",
      "source":[
        "df_all_shingazidja_words.to_csv(\"words_shingazidja_free.csv\", index=False) "
      ],
      "execution_count":119,
      "outputs":[
        
      ],
      "metadata":{
        
      }
    }
  ],
  "metadata":{
    
  },
  "nbformat":4,
  "nbformat_minor":0
}